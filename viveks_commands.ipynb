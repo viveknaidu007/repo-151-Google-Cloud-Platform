{
 "cells": [
  {
   "cell_type": "code",
   "execution_count": null,
   "metadata": {},
   "outputs": [],
   "source": [
    "cd ..\n",
    "rm -r foldername\n",
    "ls\n",
    "pwd\n",
    "unzip \n"
   ]
  },
  {
   "cell_type": "code",
   "execution_count": null,
   "metadata": {},
   "outputs": [],
   "source": [
    "///////////////"
   ]
  },
  {
   "cell_type": "markdown",
   "metadata": {},
   "source": [
    "Google Cloud Storage Commands:\n",
    "\n",
    "    Copy file from GCS bucket to VM:\n",
    "\n",
    "    gsutil cp gs://your-bucket-name/your-file.zip /path/on/vm/\n",
    "\n"
   ]
  },
  {
   "cell_type": "code",
   "execution_count": null,
   "metadata": {},
   "outputs": [],
   "source": [
    "///////////////////"
   ]
  },
  {
   "cell_type": "markdown",
   "metadata": {},
   "source": [
    "Basic Setup Commands:\n",
    "\n",
    "    Update package list:\n",
    "\n",
    "    sudo apt update\n",
    "\n",
    "    Upgrade installed packages:\n",
    "\n",
    "    sudo apt upgrade -y\n",
    "\n",
    "    Install Python and Pip:\n",
    "\n",
    "    sudo apt install python3-pip -y\n",
    "\n",
    "    Check current directory (print working directory):\n",
    "\n",
    "    pwd\n",
    "\n",
    "    List files and directories:\n",
    "\n",
    "    ls\n",
    "\n",
    "    Change directory:\n",
    "\n",
    "    cd /path/to/directory\n",
    "\n",
    "    Install unzip (if needed for extracting files):\n",
    "\n",
    "    sudo apt install unzip -y\n",
    "\n",
    "    Unzip a file:\n",
    "\n",
    "    unzip /path/to/file.zip -d /path/to/destination\n",
    "\n"
   ]
  },
  {
   "cell_type": "code",
   "execution_count": null,
   "metadata": {},
   "outputs": [],
   "source": [
    "Install pip for Python 3\n",
    "\n",
    "    Update package list:\n",
    "\n",
    "    sudo apt update\n",
    "\n",
    "    Install pip for Python 3:\n",
    "\n",
    "    sudo apt install python3-pip -y\n",
    "\n",
    "    Verify pip installation:\n",
    "\n",
    "    pip3 --version\n",
    "\n",
    "    Now install the dependencies from requirements.txt:\n",
    "\n",
    "    pip3 install -r requirements.txt\n",
    "\n"
   ]
  },
  {
   "cell_type": "code",
   "execution_count": null,
   "metadata": {},
   "outputs": [],
   "source": [
    "////////////////////////////\n",
    "\n",
    "Install Gunicorn:\n",
    "\n",
    "In your virtual environment, install Gunicorn with pip:\n",
    "\n",
    "pip install gunicorn\n",
    "\n",
    "Run Your Flask Application with Gunicorn:\n",
    "\n",
    "Navigate to your project directory and start Gunicorn:\n",
    "\n",
    "gunicorn -w 4 -b 0.0.0.0:5000 app:app\n",
    "\n",
    "    -w 4 specifies 4 worker processes.\n",
    "    -b 0.0.0.0:5000 binds Gunicorn to all IP addresses on port 5000.\n",
    "    app:app specifies the module and Flask application instance (assuming your Flask app is in app.py and the instance is named app).\n",
    "\n"
   ]
  },
  {
   "cell_type": "code",
   "execution_count": null,
   "metadata": {},
   "outputs": [],
   "source": []
  }
 ],
 "metadata": {
  "language_info": {
   "name": "python"
  }
 },
 "nbformat": 4,
 "nbformat_minor": 2
}
